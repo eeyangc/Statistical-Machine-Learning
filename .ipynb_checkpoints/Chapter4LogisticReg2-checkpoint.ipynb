{
 "cells": [
  {
   "cell_type": "code",
   "execution_count": 1,
   "metadata": {},
   "outputs": [
    {
     "data": {
      "text/html": [
       "'/Users/canyang/Documents/github_Yang/statistical-learning/Statistical-Machine-Learning'"
      ],
      "text/latex": [
       "'/Users/canyang/Documents/github\\_Yang/statistical-learning/Statistical-Machine-Learning'"
      ],
      "text/markdown": [
       "'/Users/canyang/Documents/github_Yang/statistical-learning/Statistical-Machine-Learning'"
      ],
      "text/plain": [
       "[1] \"/Users/canyang/Documents/github_Yang/statistical-learning/Statistical-Machine-Learning\""
      ]
     },
     "metadata": {},
     "output_type": "display_data"
    }
   ],
   "source": [
    "getwd()"
   ]
  },
  {
   "cell_type": "code",
   "execution_count": null,
   "metadata": {},
   "outputs": [],
   "source": []
  }
 ],
 "metadata": {
  "kernelspec": {
   "display_name": "R 3.4",
   "language": "R",
   "name": "ir34"
  },
  "language_info": {
   "codemirror_mode": "r",
   "file_extension": ".r",
   "mimetype": "text/x-r-source",
   "name": "R",
   "pygments_lexer": "r",
   "version": "3.4.1"
  }
 },
 "nbformat": 4,
 "nbformat_minor": 2
}
